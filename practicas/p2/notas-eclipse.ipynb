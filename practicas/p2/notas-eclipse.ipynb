{
 "cells": [
  {
   "cell_type": "markdown",
   "id": "55fab80f-5618-48cb-86e3-0178f988814a",
   "metadata": {},
   "source": [
    "# Instrucciones para el uso de Eclipse para la edición de los proyectos\n",
    "\n"
   ]
  },
  {
   "cell_type": "markdown",
   "id": "41141918-c313-47b6-b6c7-a4fd00d15e20",
   "metadata": {},
   "source": [
    "("
   ]
  }
 ],
 "metadata": {
  "kernelspec": {
   "display_name": "",
   "name": ""
  },
  "language_info": {
   "name": ""
  }
 },
 "nbformat": 4,
 "nbformat_minor": 5
}
