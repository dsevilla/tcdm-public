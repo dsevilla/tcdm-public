{
 "cells": [
  {
   "cell_type": "markdown",
   "id": "55fab80f-5618-48cb-86e3-0178f988814a",
   "metadata": {},
   "source": [
    "# Instrucciones para el uso de Eclipse para la edición de los proyectos\n",
    "\n",
    "Este documento muestra cómo trabajar con Eclipse para desarrollar los proyectos Java de la asignatura."
   ]
  },
  {
   "cell_type": "markdown",
   "id": "41141918-c313-47b6-b6c7-a4fd00d15e20",
   "metadata": {},
   "source": [
    "En primer lugar, hay que descargar Eclipse de la dirección https://www.eclipse.org/downloads.\n",
    "![Descarga](https://github.com/dsevilla/tcdm-public/raw/21-22/practicas/p2/imgs/eclipse-1.png)\n",
    "\n",
    "Pulsar en la opción \"Download Packages\". Descargad \"Eclipse IDE for Java Developers\", la versión correcta para vuestro Sistema Operativo.\n",
    "\n",
    "![Descarga](https://github.com/dsevilla/tcdm-public/raw/21-22/practicas/p2/imgs/eclipse-2.png)\n",
    "\n",
    "El fichero `.tar.gz` se puede descomprimir en cualquier directorio:\n",
    "\n",
    "![Descarga](https://github.com/dsevilla/tcdm-public/raw/21-22/practicas/p2/imgs/eclipse-3.png)\n",
    "\n",
    "![Descarga](https://github.com/dsevilla/tcdm-public/raw/21-22/practicas/p2/imgs/eclipse-4.png)\n",
    "\n",
    "Una vez descomprimido podemos ejecutar el programa Eclipse en el directorio `eclipse`: `./eclipse`:\n",
    "\n",
    "![Descarga](https://github.com/dsevilla/tcdm-public/raw/21-22/practicas/p2/imgs/eclipse-5.png)\n",
    "\n",
    "Al arrancar pregunta por el directorio donde almacenar los proyectos. Dejad el por defecto, no hay problema:\n",
    "\n",
    "![Descarga](https://github.com/dsevilla/tcdm-public/raw/21-22/practicas/p2/imgs/eclipse-6.png)\n",
    "\n",
    "Al ejecutarlo muestra la pantalla inicial. Pulsar en el triángulo de arriba a la derecha.\n",
    "\n",
    "![Descarga](https://github.com/dsevilla/tcdm-public/raw/21-22/practicas/p2/imgs/eclipse-7.png)\n",
    "\n",
    "A la izquierda se puede pulsar en \"Import Project.\"\n",
    "\n",
    "![Descarga](https://github.com/dsevilla/tcdm-public/raw/21-22/practicas/p2/imgs/eclipse-8.png)\n",
    "\n",
    "Después, en la ventana, seleccionar \"Maven\" -> \"Existing Maven Project\".\n",
    "\n",
    "![Descarga](https://github.com/dsevilla/tcdm-public/raw/21-22/practicas/p2/imgs/eclipse-9.png)\n",
    "\n",
    "Una vez descargado el fichero `.zip` del proyecto en concreto (en este caso el de ejemplo `FileSystemCat.zip`), descomprimido en un directorio, podemos seleccionar el mismo:\n",
    "\n",
    "![Descarga](https://github.com/dsevilla/tcdm-public/raw/21-22/practicas/p2/imgs/eclipse-10.png)\n",
    "\n",
    "![Descarga](https://github.com/dsevilla/tcdm-public/raw/21-22/practicas/p2/imgs/eclipse-11.png)\n",
    "\n",
    "El proyecto aparece en el cuadro de proyectos, se puede editar los ficheros.\n",
    "\n",
    "![Descarga](https://github.com/dsevilla/tcdm-public/raw/21-22/practicas/p2/imgs/eclipse-12.png)\n",
    "\n",
    "Para compilarlo, se puede, o bien copiar el proyecto una vez editado a dentro del contenedor como hemos visto en las prácticas y dentro del directorio del proyecto ejecutar `mvn package`, o bien se puede compilar desde el propio Eclipse, pinchando en el directorio del proyecto el botón derecho, pulsar en \"Run As\" -> \"Maven build...\", y después seleccionar el target \"package\":\n",
    "\n",
    "![Descarga](https://github.com/dsevilla/tcdm-public/raw/21-22/practicas/p2/imgs/eclipse-12a.png)\n",
    "\n",
    "![Descarga](https://github.com/dsevilla/tcdm-public/raw/21-22/practicas/p2/imgs/eclipse-13.png)\n",
    "\n",
    "Si no ha habido errores, el fichero `.jar` está en el directorio `target` del proyecto. Este fichero `.jar` se puede copiar a los contenedores para usarlos en Hadoop.\n",
    "![Descarga](https://github.com/dsevilla/tcdm-public/raw/21-22/practicas/p2/imgs/eclipse-14.png)"
   ]
  },
  {
   "cell_type": "code",
   "execution_count": null,
   "id": "edd33657-528c-4c78-b467-e4c34f2b2368",
   "metadata": {},
   "outputs": [],
   "source": []
  }
 ],
 "metadata": {
  "kernelspec": {
   "display_name": "",
   "name": ""
  },
  "language_info": {
   "name": ""
  }
 },
 "nbformat": 4,
 "nbformat_minor": 5
}
